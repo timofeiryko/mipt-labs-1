{
 "cells": [
  {
   "cell_type": "markdown",
   "metadata": {},
   "source": [
    "## Определение скорости полета пули при помощи баллистического маятника\n",
    "\n",
    "**Цель**: Определить скорость полёта пули применяя законы сохранения и используя баллистические маятники.\n",
    "\n",
    "Оборудование: духовое ружьё на штативе, осветитель, оптическая система для измерения отклонений маятника, измерительная линейка, пули и весы для их взвешивания, баллистические маятники.\n",
    "\n",
    "### 0 Введение\n",
    "\n",
    "#### Теория\n",
    "\n",
    "##### Баллистический маятник, совершающий поступательное движение\n",
    "\n",
    "В первой части работы будем использовать установку, изображённую на рисунке ниже. При попадании пули в цилиндр любая его точка движется по окружности известного радиуса, поэтому его смещение с помощью собирающей линзы можно перевести в линейное отклонение на линейке.\n",
    "\n",
    "<img src=\"image_1.png\" alt=\"Баллистический маятник, совершающий поступательное движение\" style=\"width:600px\">\n",
    "\n",
    "При контакте пули с цилиндром можно записать ЗСИ:\n",
    "\n",
    "$$\n",
    "mu = (M+m)V\n",
    "$$\n",
    "\n",
    "где $m$ -- масса пули, $u$ -- скорость пули перед ударом, $V$-скорость цилиндра вместе с пулей после удара.\n",
    "\n",
    "Тогда скорость пули можно выразить как:\n",
    "\n",
    "$$\n",
    "u=\\frac{M}{m} \\sqrt{\\frac{g}{L}} \\Delta x\n",
    "$$\n",
    "\n",
    "Затуханием колебанием в данном эксперименте можно пренебречь.\n",
    "\n",
    "##### Крутильный баллистический маятник\n",
    "\n",
    "Во второй части работы мы будем использовать крутильный баллистический маятник. Схема установки представлена на картинке ниже.\n",
    "\n",
    "<img src=\"image_2.png\" alt=\"Баллистический маятник, совершающий поступательное движение\" style=\"width:600px\">\n",
    "\n",
    "Считая удар неупругим, можно записать уравнение\n",
    "$$mur=I \\Omega$$\n",
    "\n",
    "где $r-$расстояние от линии полёта пули до оси вращения, $I$ — момент инерции относительно этой оси, $\\Omega$ — угловая скорость маятника сразу после удара.\n",
    "\n",
    "Можно пренебречь затуханием колебаний и потерями энергии и записать ЗСЭ:\n",
    "$$ k \\frac{\\varphi^2}{2} = I \\frac{\\Omega^2}{2} $$\n",
    "\n",
    "где $k$ — модуль кручения проволоки, $\\varphi$ — максимальный угол поворота маятника, тогда скорость:\n",
    "\n",
    "$$\n",
    "u = \\varphi \\frac{\\sqrt{kI}}{mr} \n",
    "$$"
   ]
  },
  {
   "cell_type": "markdown",
   "metadata": {},
   "source": [
    "**Импорт библиотек и данных**"
   ]
  },
  {
   "cell_type": "code",
   "execution_count": 1,
   "metadata": {},
   "outputs": [],
   "source": [
    "import numpy as np\n",
    "import pandas as pd\n",
    "\n",
    "import matplotlib.pyplot as plt\n",
    "import seaborn as sns \n",
    "\n",
    "import statistics as st\n",
    "import math as mt"
   ]
  },
  {
   "cell_type": "markdown",
   "metadata": {},
   "source": [
    "### 1 Баллистический маятник, совершающий поступательное движение"
   ]
  },
  {
   "cell_type": "code",
   "execution_count": 4,
   "metadata": {},
   "outputs": [],
   "source": [
    "m = np.array([0.514, 0.514, 0.509, 0.506, 0.507])\n",
    "M = np.array([2925.0, 732.05])\n",
    "L = 221.00\n",
    "r = 22\n",
    "R = 34\n",
    "d = 135.8"
   ]
  },
  {
   "cell_type": "code",
   "execution_count": 6,
   "metadata": {},
   "outputs": [
    {
     "name": "stdout",
     "output_type": "stream",
     "text": [
      "[141.53703196 143.93596471 133.23715677 114.53213198 136.19470398]\n"
     ]
    }
   ],
   "source": [
    "A = np.array([1.18, 1.2, 1.1, 0.94, 1.12])\n",
    "\n",
    "v_1 = np.sqrt(981.5 / L) * ((M[0] + m) / m) * A / 100\n",
    "\n",
    "print(v_1)"
   ]
  },
  {
   "cell_type": "markdown",
   "metadata": {},
   "source": [
    "Относительная погрешность:\n",
    "\n",
    "$$\n",
    "\\epsilon_v^2 = \\epsilon_m^2 + \\epsilon_M^2 + \\frac{1}{4} \\epsilon_L^2 + \\epsilon_A^2\n",
    "$$\n",
    "\n",
    "Абсолютная погрешность:\n",
    "\n",
    "$$\n",
    "\\Delta v = \\epsilon_v * v\n",
    "$$"
   ]
  },
  {
   "cell_type": "code",
   "execution_count": 8,
   "metadata": {},
   "outputs": [],
   "source": [
    "epsilon_M_1 = 5 / 2925\n",
    "\n",
    "epsilon_m = 0.001 / m\n",
    "epsilon_L = 1 / L\n",
    "epsilon_A = 0.05 / A\n",
    "\n",
    "epsilon_v_1 = np.sqrt(epsilon_M_1**2 + epsilon_m**2 + 0.25 * epsilon_L**2 + epsilon_A**2)\n",
    "delta_v_1 = v_1 * epsilon_v_1"
   ]
  },
  {
   "cell_type": "code",
   "execution_count": 11,
   "metadata": {},
   "outputs": [
    {
     "name": "stdout",
     "output_type": "stream",
     "text": [
      "v_1 = 133.89 +- 6.06, epsilon = 4.56 %\n"
     ]
    }
   ],
   "source": [
    "V_1 = np.average(v_1)\n",
    "Delta_v_1 = np.average(delta_v_1)\n",
    "Epsilon_v_1 = np.average(epsilon_v_1)\n",
    "print(f\"v_1 ={V_1: .2f} +-{Delta_v_1: .2f}, epsilon ={Epsilon_v_1*100: .2f} %\")"
   ]
  },
  {
   "cell_type": "markdown",
   "metadata": {},
   "source": [
    "### 2 Крутильный баллистический маятник"
   ]
  },
  {
   "cell_type": "markdown",
   "metadata": {},
   "source": [
    "Найдем момент инерции маятника и углы отклонения  $\\varphi$, учитывая что $\\varphi \\approx \\frac{x}{d}$:"
   ]
  },
  {
   "cell_type": "code",
   "execution_count": 16,
   "metadata": {},
   "outputs": [
    {
     "name": "stdout",
     "output_type": "stream",
     "text": [
      "3552440.3475030893\n"
     ]
    }
   ],
   "source": [
    "m = np.array([0.511, 0.51, 0.504, 0.512, 0.511])\n",
    "\n",
    "x = np.array([3.65, 4.05, 3.8, 4.0, 4.05])\n",
    "T2 = 24.53 / 5\n",
    "T1 = 33.13 / 5\n",
    "kI_2 = (4 * np.pi * M[1] * R**2 * T1) / (T1**2 - T2**2)\n",
    "\n",
    "phi = x / d\n",
    "print(kI_2)"
   ]
  },
  {
   "cell_type": "markdown",
   "metadata": {},
   "source": [
    "Вычислим скорости пуль по формуле $v = \\varphi \\frac{\\sqrt{kI}}{mr}$:"
   ]
  },
  {
   "cell_type": "code",
   "execution_count": 17,
   "metadata": {},
   "outputs": [
    {
     "name": "stdout",
     "output_type": "stream",
     "text": [
      "[84.93296931 94.42547764 89.6514676  92.89543518 94.24069197]\n"
     ]
    }
   ],
   "source": [
    "v_2 = phi * kI_2 / (r * m) / 100\n",
    "print(v_2)"
   ]
  },
  {
   "cell_type": "markdown",
   "metadata": {},
   "source": [
    "Найдем погрешности:"
   ]
  },
  {
   "cell_type": "code",
   "execution_count": 19,
   "metadata": {},
   "outputs": [
    {
     "name": "stdout",
     "output_type": "stream",
     "text": [
      "[23.0848175  25.04533589 24.12663295 24.7065555  24.99632082]\n",
      "[0.27180043 0.26523918 0.26911587 0.26596092 0.26523915]\n"
     ]
    }
   ],
   "source": [
    "epsilon_m = 0.001 / m\n",
    "epsilon_kI_2 = (0.5/M[1])**2 + (0.5/R)**2 + 9/4 * (0.5/T1)**2 + 4*(0.5/T2)**2\n",
    "epsilon_r = 0.5/r\n",
    "epsilon_phi = (0.5/x)**2 + (0.5/d)**2\n",
    "epsilon_v_2 = np.sqrt(epsilon_kI_2 + epsilon_r**2 + epsilon_m**2 + epsilon_phi)\n",
    "\n",
    "delta_v_2 = v_2 * epsilon_v_2\n",
    "\n",
    "print(delta_v_2)\n",
    "print(epsilon_v_2)"
   ]
  },
  {
   "cell_type": "code",
   "execution_count": 21,
   "metadata": {},
   "outputs": [
    {
     "name": "stdout",
     "output_type": "stream",
     "text": [
      "v_2 =  91.23 +- 24.39, epsilon = 26.75 %\n"
     ]
    }
   ],
   "source": [
    "V_2 = np.average(v_2)\n",
    "Delta_v_2 = np.average(delta_v_2)\n",
    "Epsilon_v_2 = np.average(epsilon_v_2)\n",
    "print(f\"v_2 = {V_2: .2f} +-{Delta_v_2: .2f}, epsilon ={Epsilon_v_2*100: .2f} %\")"
   ]
  },
  {
   "cell_type": "markdown",
   "metadata": {},
   "source": [
    "### 3 Выводы\n",
    "\n",
    "0) В ходе работы были исследованы скорости пуль, выпущенных из 2х различных пневматических ружей с использованием поступательного и крутильного баллистического маятников.\n",
    "\n",
    "1) Скорость пули из 1 ружья составила $ 133.89 \\pm 6.06, \\varepsilon_v = 4.56% $, результат точный.\n",
    "\n",
    "2) Скорость пули из 2 ружья составила $ 91.23 \\pm 24.39, \\varepsilon_v = 26.75% $, результат не точный, наибольшую погрешность внесло измерение момента инерции установки."
   ]
  }
 ],
 "metadata": {
  "kernelspec": {
   "display_name": "Python 3 (ipykernel)",
   "language": "python",
   "name": "python3"
  },
  "language_info": {
   "codemirror_mode": {
    "name": "ipython",
    "version": 3
   },
   "file_extension": ".py",
   "mimetype": "text/x-python",
   "name": "python",
   "nbconvert_exporter": "python",
   "pygments_lexer": "ipython3",
   "version": "3.12.0"
  }
 },
 "nbformat": 4,
 "nbformat_minor": 4
}
