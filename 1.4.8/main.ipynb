{
 "cells": [
  {
   "cell_type": "markdown",
   "metadata": {},
   "source": [
    "## Измерение модуля Юнга методом акустического резонанса\n",
    "\n",
    "### 0 Введение\n",
    "\n",
    "**Цель**: исследовать явление акустического резонанса в тонком стержне: Измерить скорость распространения продольных звуковых колебаний в тонких стержнях из различных материалов и различных размеров, измерить модули Юнга различных материалов.\n",
    "\n",
    "Оборудование и материалы:\n",
    "- Генератор звуковых частот.\n",
    "- Частотомер.\n",
    "- Осциллограф.\n",
    "- Электромагнитные излучатель и приёмник колебаний.\n",
    "- Набор стержней из различных материалов.\n",
    "- Линейка, штангенциркуль, микрометр.\n",
    "- Весы.\n",
    "\n",
    "### Теория\n",
    "\n",
    "Акустическая волна, распространяющаяся в стержне конечной длины $L$, отражается торцов стержня. Если при этом на длине стержня укладывается целое число полуволн, то отражённые волны будут складываться в фазе с падающими, что приведёт к резкому усилению амплитуды их колебаний и возникновению акустического резонанса в стержне. Измеряя соответствующие резонансные частоты, можно определить скорость звуковой волны в стержне и, таким образом, измерить модуль Юнга материала стержня. Акустический метод является одним из наиболее точных методов определения упругих характеристик твёрдых тел.\n",
    "\n",
    "**Выведем скорость распространения волны и волновое уравнение.** \n",
    "\n",
    "Направим ось $X$ вдоль геометрической оси стержня. Разобьём исходно недеформированный стержень на тонкие слои толщиной $\\Delta x$. При продольной деформации среды границы слоёв сместятся в некоторые новые положения. Пусть плоскость среды, находящаяся исходно в точке $x$, сместилась к моменту $t$ на расстояние $\\xi(x,t)$. Тогда слой, занимавший исходно отрезок $[x; x + \\Delta x]$, изменил свой продольный размер на величину $\\Delta \\xi = \\xi(x + \\Delta x, t) - \\xi(x, t)$.\n",
    "\n",
    "<img src=\"image_1.png\" alt=\"\" style=\"width:600px\">\n",
    "\n",
    "$$\n",
    "\\varepsilon = \\frac{\\partial\\xi}{\\partial x}\n",
    "$$\n",
    "\n",
    "Далее, согласно закону Гука, имеем:\n",
    "\n",
    "$$\n",
    "\\sigma = \\varepsilon E = E \\frac{\\partial\\xi}{\\partial x}\n",
    "$$\n",
    "\n",
    "Напряжение стержня равно $\\sigma = \\frac{F}{S}$, где $F$ — продольная сила, действующая на элементарный участок $\\Delta x$, $S$ - площадь поперечного сечения стержня.\n",
    "\n",
    "Напряжения, действующие на стенки рассматриваемого элемента в сечениях $x$ и $x + \\Delta x$, будут различными. Из-за этого возникнет результирующая возвращающая сила, стремящаяся вернуть элемент стержня в исходное (недеформированное и несмещённое) состояние:\n",
    "\n",
    "$$\n",
    "\\Delta F = S \\sigma(x + \\Delta x) - S \\sigma(x) = \\frac{\\partial\\sigma}{\\partial x} S\\Delta x = \\frac{\\partial^2\\xi}{\\partial^2 x} ES\\Delta x\n",
    "$$\n",
    "\n",
    "Эта сила вызовет ускорение движение элемента стержня массой $\\Delta m = S \\rho \\Delta x$ вдоль оси $X$. Ускорение рассматриваемого элемента — это вторая производная по времени от смещения его границ:\n",
    "\n",
    "$$\n",
    "a = \\frac{\\partial^2 \\xi}{\\partial t^2}\n",
    "$$\n",
    "\n",
    "Тогда, используя 2-й закон Ньютона:\n",
    "\n",
    "$$\n",
    "\\Delta m \\cdot a = \\Delta F\n",
    "$$\n",
    "\n",
    "и полученные соотношения, получим уравнение движения среды:\n",
    "\n",
    "$$\n",
    "S \\rho \\Delta x \\frac{\\partial^2 \\xi}{\\partial t^2} = ES\\Delta x \\frac{\\partial^2\\xi}{\\partial^2 x}\n",
    "$$\n",
    "\n",
    "Скорость $u$ распространения продольной акустической волны в простейшем случае длинного тонкого стержня определяется соотношением:\n",
    "\n",
    "$$\n",
    "u = \\sqrt{\\frac{E}{\\rho}}\n",
    "$$\n",
    "\n",
    "Теперь **мы можем записать волновое уравнение:**\n",
    "\n",
    "$$\n",
    "\\frac{\\partial^2 \\xi}{\\partial t^2} = u^2 \\frac{\\partial^2\\xi}{\\partial^2 x}\n",
    "$$\n",
    "\n",
    "Оно имеет универсальный характер и описывает волны самой разной природы: акустические волны в твёрдых телах, жидкостях и газа, волны на струне, электромагнитные волны и т.п. Величина $u$ имеет смысл скорости распространения волны.\n",
    "\n",
    "В случае гармонического возбуждения колебаний с частотой $f$ продольная волна в тонком стержне может быть представлена в виде суперпозиции двух бегущих навстречу гармонических волн:\n",
    "\n",
    "$$\n",
    "\\xi(x, t) = A_1 (\\sin{\\omega t - kx + \\phi_1}) + A_2 (\\sin{\\omega t - kx + \\phi_2})\n",
    "$$\n",
    "\n",
    "где $\\omega = 2 \\pi f$ — циклическая частота. Коэффициент $k = \\frac{2 \\pi}{\\lambda}$ называют волновым числом или пространственной частотой волны.\n",
    "\n",
    "Пусть концы стержня не закреплены. Тогда напряжения в них должны равняться нулю. Положим координаты торцов равными $x = 0$ и $x = L$. Тогда, используя связь напряжения и деформации, запишем граничные условия для свободных (незакреплённых) концов стержня:\n",
    "\n",
    "$$\n",
    "x = 0: \\sigma(0) = 0 \\rightarrow \\frac{\\partial\\xi}{\\partial x} = 0\n",
    "$$\n",
    "\n",
    "$$\n",
    "x = L: \\sigma(L) = 0 \\rightarrow \\frac{\\partial\\xi}{\\partial x} = 0\n",
    "$$\n",
    "\n",
    "Нетрудно видеть, что это соотношение будет выполняться при любом $t$, если только у «падающей» и «отражённой» волн одинаковы амплитуды и фазы.\n",
    "\n",
    "Далее, перепишем исследуемую функцию, используя граничные условия и и формулу суммы синусов:\n",
    "\n",
    "$$\n",
    "\\xi(x, t) = 2A \\cos(kx)sin(\\omega t + \\phi)\n",
    "$$\n",
    "\n",
    "Такие колебания называют **гармоническими стоячими волнами**.\n",
    "\n",
    "Наконец, воспользуемся вторым граничным условием применительно к нашей функции. В результате придём к уравнению $\\sin(kL) = 0$, решения которого определяют набор допустимых значений волновых чисел $k$:\n",
    "\n",
    "$$\n",
    "k_n L = \\pi n, \\quad n = 1, 2, 3,...,\n",
    "$$\n",
    "\n",
    "или, выражая через длину волны $\\lambda = \\frac{2 \\pi}{k},$, получим:\n",
    "\n",
    "$$\n",
    "\\lambda_n = \\frac{2L}{n}, \\quad n \\in \\mathbb{N}\n",
    "$$\n",
    "\n",
    "Таким образом, для возбуждения стоячей волны на длине стержня должно укладываться целое число полуволн.\n",
    "\n",
    "Допустимые значения частот:\n",
    "\n",
    "$$\n",
    "f_n = \\frac{u}{\\lambda_n} = n \\frac{u}{2L}, \\quad n \\in \\mathbb{N}\n",
    "$$\n",
    "\n",
    "называют собственными частотами колебаний стержня длиной $L$. Именно при совпадении внешней частоты с одной из частот $f_n$ в стержне возникает акустический резонанс. Собственные частоты мы и находим в ходе нашего эксперимента.\n",
    "\n",
    "<img src=\"image_2.png\" alt=\"\" style=\"width:600px\">\n",
    "\n",
    "**Экспериментальная установка**, с помощью мы которой мы создаём колебания в стержне:\n",
    "\n",
    "<img src=\"image_3.png\" alt=\"\" style=\"width:600px\">\n",
    "\n",
    "Схема экспериментальной установки приведена на рис. 3. Исследуемый стержень 5 размещается на стойке 10. Возбуждение и приём колебаний в стержне осуществляются электромагнитными преобразователями 4 и 6, расположенными рядом с торцами стержня. Крепления 9, 11 электромагнитов дают  возможность регулировать их расположение по высоте, а также перемещать вправо-влево по столу 12.\n",
    "\n",
    "Электромагнит 4 служит для возбуждения упругих механических продольных колебаний в стержне. На него с генератора звуковой частоты 1 подаётся сигнал синусоидальной формы: протекающий в катушке электромагнита ток создаёт пропорциональное ему магнитное поле, вызывающее периодическое воздействие заданной частоты на торец стержня (к торцам стержней из немагнитных материалов прикреплены тонкие стальные шайбы). Рядом с другим торцом стержня находится аналогичный электромагнитный датчик 6, который служит для преобразования механических колебаний в электрические.\n",
    "\n",
    "Сигнал с выхода генератора поступает на частотомер 2 и на вход канала X осциллографа 3. ЭДС, возбуждаемая в регистрирующем электромагните 6, пропорциональная амплитуде колебаний торца стержня, усиливается усилителем 7 и подаётся на вход канала Y осциллографа.\n",
    "\n",
    "Изменяя частоту генератора и наблюдая за амплитудой сигнала с регистрирующего датчика, можно определить частоту акустического резонанса в стержне. Наблюдения в режиме X–Y позволяют сравнить сигналы генератора и датчика, а также облегчает поиск резонанса при слабом сигнале.\n"
   ]
  },
  {
   "cell_type": "markdown",
   "metadata": {},
   "source": [
    "### 1 Резонансные частоты"
   ]
  },
  {
   "cell_type": "code",
   "execution_count": 1,
   "metadata": {},
   "outputs": [],
   "source": [
    "import pandas as pd\n",
    "from pandas.api.types import is_numeric_dtype\n",
    "import numpy as np\n",
    "\n",
    "import matplotlib.pyplot as plt\n",
    "import seaborn as sns\n",
    "\n",
    "from scipy import stats"
   ]
  },
  {
   "cell_type": "code",
   "execution_count": 21,
   "metadata": {},
   "outputs": [
    {
     "data": {
      "text/html": [
       "<div>\n",
       "<style scoped>\n",
       "    .dataframe tbody tr th:only-of-type {\n",
       "        vertical-align: middle;\n",
       "    }\n",
       "\n",
       "    .dataframe tbody tr th {\n",
       "        vertical-align: top;\n",
       "    }\n",
       "\n",
       "    .dataframe thead th {\n",
       "        text-align: right;\n",
       "    }\n",
       "</style>\n",
       "<table border=\"1\" class=\"dataframe\">\n",
       "  <thead>\n",
       "    <tr style=\"text-align: right;\">\n",
       "      <th></th>\n",
       "      <th>Номер</th>\n",
       "      <th>Частота, кГц</th>\n",
       "      <th>Материал</th>\n",
       "    </tr>\n",
       "  </thead>\n",
       "  <tbody>\n",
       "    <tr>\n",
       "      <th>0</th>\n",
       "      <td>f1</td>\n",
       "      <td>3.15821</td>\n",
       "      <td>Медный</td>\n",
       "    </tr>\n",
       "    <tr>\n",
       "      <th>1</th>\n",
       "      <td>f2</td>\n",
       "      <td>6.30915</td>\n",
       "      <td>Медный</td>\n",
       "    </tr>\n",
       "    <tr>\n",
       "      <th>2</th>\n",
       "      <td>f3</td>\n",
       "      <td>9.48621</td>\n",
       "      <td>Медный</td>\n",
       "    </tr>\n",
       "    <tr>\n",
       "      <th>3</th>\n",
       "      <td>f4</td>\n",
       "      <td>12.66090</td>\n",
       "      <td>Медный</td>\n",
       "    </tr>\n",
       "    <tr>\n",
       "      <th>4</th>\n",
       "      <td>f5</td>\n",
       "      <td>15.80700</td>\n",
       "      <td>Медный</td>\n",
       "    </tr>\n",
       "    <tr>\n",
       "      <th>5</th>\n",
       "      <td>f6</td>\n",
       "      <td>18.97540</td>\n",
       "      <td>Медный</td>\n",
       "    </tr>\n",
       "    <tr>\n",
       "      <th>6</th>\n",
       "      <td>f7</td>\n",
       "      <td>22.11800</td>\n",
       "      <td>Медный</td>\n",
       "    </tr>\n",
       "    <tr>\n",
       "      <th>7</th>\n",
       "      <td>f1</td>\n",
       "      <td>4.12473</td>\n",
       "      <td>Стальной</td>\n",
       "    </tr>\n",
       "    <tr>\n",
       "      <th>8</th>\n",
       "      <td>f2</td>\n",
       "      <td>8.25320</td>\n",
       "      <td>Стальной</td>\n",
       "    </tr>\n",
       "    <tr>\n",
       "      <th>9</th>\n",
       "      <td>f3</td>\n",
       "      <td>12.37790</td>\n",
       "      <td>Стальной</td>\n",
       "    </tr>\n",
       "    <tr>\n",
       "      <th>10</th>\n",
       "      <td>f4</td>\n",
       "      <td>16.51470</td>\n",
       "      <td>Стальной</td>\n",
       "    </tr>\n",
       "    <tr>\n",
       "      <th>11</th>\n",
       "      <td>f5</td>\n",
       "      <td>20.63370</td>\n",
       "      <td>Стальной</td>\n",
       "    </tr>\n",
       "    <tr>\n",
       "      <th>12</th>\n",
       "      <td>f6</td>\n",
       "      <td>24.75440</td>\n",
       "      <td>Стальной</td>\n",
       "    </tr>\n",
       "    <tr>\n",
       "      <th>13</th>\n",
       "      <td>f7</td>\n",
       "      <td>28.86050</td>\n",
       "      <td>Стальной</td>\n",
       "    </tr>\n",
       "    <tr>\n",
       "      <th>14</th>\n",
       "      <td>f1</td>\n",
       "      <td>4.26198</td>\n",
       "      <td>Дюралюминиевый</td>\n",
       "    </tr>\n",
       "    <tr>\n",
       "      <th>15</th>\n",
       "      <td>f2</td>\n",
       "      <td>8.52945</td>\n",
       "      <td>Дюралюминиевый</td>\n",
       "    </tr>\n",
       "    <tr>\n",
       "      <th>16</th>\n",
       "      <td>f3</td>\n",
       "      <td>12.77990</td>\n",
       "      <td>Дюралюминиевый</td>\n",
       "    </tr>\n",
       "    <tr>\n",
       "      <th>17</th>\n",
       "      <td>f4</td>\n",
       "      <td>17.04160</td>\n",
       "      <td>Дюралюминиевый</td>\n",
       "    </tr>\n",
       "    <tr>\n",
       "      <th>18</th>\n",
       "      <td>f5</td>\n",
       "      <td>21.28980</td>\n",
       "      <td>Дюралюминиевый</td>\n",
       "    </tr>\n",
       "  </tbody>\n",
       "</table>\n",
       "</div>"
      ],
      "text/plain": [
       "   Номер  Частота, кГц         Материал\n",
       "0     f1       3.15821           Медный\n",
       "1     f2       6.30915           Медный\n",
       "2     f3       9.48621           Медный\n",
       "3     f4      12.66090           Медный\n",
       "4     f5      15.80700           Медный\n",
       "5     f6      18.97540           Медный\n",
       "6     f7      22.11800           Медный\n",
       "7     f1       4.12473         Стальной\n",
       "8     f2       8.25320         Стальной\n",
       "9     f3      12.37790         Стальной\n",
       "10    f4      16.51470         Стальной\n",
       "11    f5      20.63370         Стальной\n",
       "12    f6      24.75440         Стальной\n",
       "13    f7      28.86050         Стальной\n",
       "14    f1       4.26198  Дюралюминиевый \n",
       "15    f2       8.52945  Дюралюминиевый \n",
       "16    f3      12.77990  Дюралюминиевый \n",
       "17    f4      17.04160  Дюралюминиевый \n",
       "18    f5      21.28980  Дюралюминиевый "
      ]
     },
     "execution_count": 21,
     "metadata": {},
     "output_type": "execute_result"
    }
   ],
   "source": [
    "df_1 = pd.read_csv('data.csv')\n",
    "\n",
    "# convert to floats\n",
    "for col_name in df_1.columns:\n",
    "    if not is_numeric_dtype(df_1[col_name]) and col_name not in ['Материал', 'Номер']:\n",
    "        df_1[col_name] = df_1[col_name].apply(lambda s: s.replace(',', '.')).astype(float)\n",
    "\n",
    "df_1"
   ]
  },
  {
   "cell_type": "code",
   "execution_count": 36,
   "metadata": {},
   "outputs": [],
   "source": [
    "df_1['n_num'] = df_1['Номер'].str.extract('(\\\\d+)').astype(int)"
   ]
  },
  {
   "cell_type": "markdown",
   "metadata": {},
   "source": [
    "Оценить изначальную частоту можно так:\n",
    "\n",
    "$$\n",
    "f_1 = \\frac{u}{2L}\n",
    "$$"
   ]
  },
  {
   "cell_type": "markdown",
   "metadata": {},
   "source": [
    "Построим график зависимости частоты от номера:"
   ]
  },
  {
   "cell_type": "code",
   "execution_count": 38,
   "metadata": {},
   "outputs": [
    {
     "data": {
      "text/plain": [
       "<Axes: xlabel='Номер', ylabel='Частота, кГц'>"
      ]
     },
     "execution_count": 38,
     "metadata": {},
     "output_type": "execute_result"
    },
    {
     "data": {
      "image/png": "[encoded data removed]",
      "text/plain": [
       "<Figure size 640x480 with 1 Axes>"
      ]
     },
     "metadata": {},
     "output_type": "display_data"
    }
   ],
   "source": [
    "sns.pointplot(data=df_1, x='Номер', y='Частота, кГц', hue='Материал')"
   ]
  },
  {
   "cell_type": "markdown",
   "metadata": {},
   "source": [
    "Погрешность измерения частоты не высока, поэтому не изображена."
   ]
  },
  {
   "cell_type": "markdown",
   "metadata": {},
   "source": [
    "Всё линейно, это хорошо!"
   ]
  },
  {
   "cell_type": "markdown",
   "metadata": {},
   "source": [
    "Также во время эксперимента убедились, что f1 — действительно первая частота, получив на осциллографе фигуру Лиссажу, напоминающую восьмерку."
   ]
  },
  {
   "cell_type": "markdown",
   "metadata": {},
   "source": [
    "### 2 Модуль Юнга для меди"
   ]
  },
  {
   "cell_type": "markdown",
   "metadata": {},
   "source": [
    "Для начала рассчитаем плотности и их погрешности, необходимые для расчета модуля Юнга:\n",
    "\n",
    "$$\n",
    "\\rho = \\dfrac{4m}{\\pi l d^2}\\\n",
    "$$\n",
    "$$\n",
    "\\varepsilon_\\rho = \\varepsilon_m + \\varepsilon_\\pi + \\varepsilon_l + 2\\varepsilon_d \\approx 2\\varepsilon_d\\\n",
    "$$\n",
    "$$\n",
    "\\sigma_\\rho = \\varepsilon_\\rho\\rho\\\n",
    "$$"
   ]
  },
  {
   "cell_type": "code",
   "execution_count": 77,
   "metadata": {},
   "outputs": [],
   "source": [
    "r = (12.08 / 2) / 1000\n",
    "l = 40 / 1000\n",
    "m = 40.814 / 1000\n",
    "\n",
    "rho = m / (np.pi * r**2 * l)\n",
    "sigma_rho = 300"
   ]
  },
  {
   "cell_type": "markdown",
   "metadata": {},
   "source": [
    "**Плотность меди: 8900 +- 300 кг / $м^3$**"
   ]
  },
  {
   "cell_type": "markdown",
   "metadata": {},
   "source": [
    "Рассчитаем скорость звука:\n",
    "\n",
    "$$\n",
    "u = 2f_1L\n",
    "$$\n",
    "\n",
    "Погрешность:\n",
    "\n",
    "$$\n",
    "\\varepsilon_u = \\sqrt{(\\frac{\\sigma_{f_1}}{f_1})^2 + (\\frac{\\sigma_L}{L})^2}\n",
    "$$"
   ]
  },
  {
   "cell_type": "code",
   "execution_count": 82,
   "metadata": {},
   "outputs": [
    {
     "name": "stdout",
     "output_type": "stream",
     "text": [
      "3789.852 0.050006943962258334 189.51891658925265\n"
     ]
    }
   ],
   "source": [
    "eps_L = 0.5 / 600\n",
    "eps_f1 = 0.05\n",
    "\n",
    "u = 2 * 3.15821 * 600\n",
    "eps_u = np.sqrt(eps_L**2 + eps_f1**2)\n",
    "\n",
    "print(u, eps_u, eps_u * u)"
   ]
  },
  {
   "cell_type": "markdown",
   "metadata": {},
   "source": [
    "**Скорость: 3789.85 +- 0.05 м / c**"
   ]
  },
  {
   "cell_type": "markdown",
   "metadata": {},
   "source": [
    "Определим модули Юнга различных материалов:\n",
    "\n",
    "$$\n",
    "E = u^2\\rho\\\n",
    "$$\n",
    "\n",
    "$$\n",
    "\\varepsilon_E = \\sqrt{2\\varepsilon_u^2 + \\varepsilon_\\rho^2}\n",
    "$$\n",
    "\n",
    "$$\n",
    "\\sigma_E = \\varepsilon_EE\\\n",
    "$$"
   ]
  },
  {
   "cell_type": "code",
   "execution_count": 83,
   "metadata": {},
   "outputs": [
    {
     "name": "stdout",
     "output_type": "stream",
     "text": [
      "127.87036935418386 0.0783383733631788\n"
     ]
    }
   ],
   "source": [
    "eps_rho = 300 / rho\n",
    "E = u**2 * rho / 10**9\n",
    "sigma_E = np.sqrt(2 * eps_u**2 + eps_rho**2)\n",
    "print(E, sigma_E)"
   ]
  },
  {
   "cell_type": "markdown",
   "metadata": {},
   "source": [
    "Модуль Юнга: 127.87 +- 0.08 ГПа"
   ]
  },
  {
   "cell_type": "markdown",
   "metadata": {},
   "source": [
    "### Добротность дюралюминиевого стержня\n",
    "\n",
    "Добротность — параметр колебательной системы, определяющий ширину резонанса и характеризующий, во сколько раз запасы энергии в системе больше, чем потери энергии за время изменения фазы на 1 радиан."
   ]
  },
  {
   "cell_type": "code",
   "execution_count": 88,
   "metadata": {},
   "outputs": [
    {
     "data": {
      "text/plain": [
       "1060"
      ]
     },
     "execution_count": 88,
     "metadata": {},
     "output_type": "execute_result"
    }
   ],
   "source": [
    "f1 = 4238\n",
    "f2 = 4230\n",
    "\n",
    "round(f1 / ((f1 - f2) / 2))"
   ]
  },
  {
   "cell_type": "markdown",
   "metadata": {},
   "source": [
    "### Выводы\n",
    "\n"
   ]
  },
  {
   "cell_type": "markdown",
   "metadata": {},
   "source": [
    "- Резонансные частоты удалось измерить довольно точно, все точки легли на прямую\n",
    "- Модуль Юнга для меди оказался равен 127.87 +- 0.08 ГПа. Метод акустического резонанса - достаточно точный метод определения модуля Юнга материалов с низкой погрешностью. Основная погрешность связана с определением плотности материалов, а именно с определением диаметра бруска, который использовался для измерения плотности. Ее можно уменьшить, если измерять диаметр стержней микрометром в разных местах. Кроме того, нужно помнить, что стержень — не идеальный цилиндр, что не учитывается в нашей модели, однако в этом эксперименте данным обстоятельством можно пренебречь.\n",
    "- Добротность дюралюминия – около 1060"
   ]
  }
 ],
 "metadata": {
  "kernelspec": {
   "display_name": "base-ds",
   "language": "python",
   "name": "python3"
  },
  "language_info": {
   "codemirror_mode": {
    "name": "ipython",
    "version": 3
   },
   "file_extension": ".py",
   "mimetype": "text/x-python",
   "name": "python",
   "nbconvert_exporter": "python",
   "pygments_lexer": "ipython3",
   "version": "3.12.0"
  }
 },
 "nbformat": 4,
 "nbformat_minor": 2
}
