{
 "cells": [
  {
   "cell_type": "markdown",
   "metadata": {},
   "source": [
    "## Исследование вынужденной регулярной прецессии гироскопа\n",
    "\n",
    "### 0 Введение\n",
    "\n",
    "**Цель**: исследовать вынужденную прецессию гироскопа, установить зависимость скорости вынужденной прецессии от величины момента сил, действующий на ось гироскопа и сравнить ее со скоростью, рассчитанной по скорости прецессии.\n",
    "\n",
    "**Оборудование**: гироскоп в кардановом подвесе, секундомер, набор грузов, отдельный ротор гироскопа, цилиндр известной массы, крутильный маятник, штангенциркуль, линейка.\n",
    "\n",
    "#### Теория\n",
    "\n",
    "В этой работе исследуется зависимость скорости прецессии гироскопа от момента силы, приложенной к его оси. Для этого к оси гироскопа подвешиваются грузы. Скорость прецессии определяется по числу оборотов рычага вокруг вертикальной оси и времени, которое на это ушло (измеряется секундомером). В процессе измерений рычаг не только поворачивается в результате прецессии гироскопа, но и опускается. Поэтому перед каждым измерением мы приподнимаем его на 5-6 градусов.\n",
    "\n",
    "Гироскоп:\n",
    "\n",
    "<img src=\"image_1.png\" alt=\"Гироскоп\" style=\"width:600px\">\n",
    "\n",
    "Измерение скорости прецессии гироскопа позволяет вычислить угловую скорость вращения его ротора. Расчет производится по формуле:\n",
    "\n",
    "$$\n",
    "\\Omega = \\frac{mgl}{I_z\\omega_0}\n",
    "$$\n",
    "\n",
    "где $m$ — масса груза, $l$ — расстояние от центра карданова подвеса до точки крепления груза на оси гироскопа, $I_z$ — момент инерции гироскопа по его главной оси вращения. $\\omega_0$ — частота его вращения относительно главной оси, $\\Omega$ — частота прецессии.\n",
    "\n",
    "Момент инерции ротора относительно оси симметрии $I_0$ измеряется по крутильным колебаниям точной копии ротора, подвешиваемой вдоль оси симметрии на жёсткой проволоке. Период крутильных колебаний $T_0$ зависит от момента инерции $I_0$ и модуля кручения проволоки $f$:\n",
    "\n",
    "$$\n",
    "T_0 = 2\\pi\\sqrt{\\frac{I_0}{f}}\n",
    "$$\n",
    "\n",
    "Чтобы исключить модуль кручения проволоки, вместо ротора гироскопа к той же проволоке подвешивают цилиндр правильной формы с известными размерами и массой, для которого легко можно вычислить момент инерции $I_\\text{ц}$. Для определения момента инерции ротора гироскопа имеем:\n",
    "\n",
    "$$\n",
    "I_0 = I_\\text{ц}\\frac{T_0^2}{T_\\text{ц}^2}\n",
    "$$\n",
    "\n",
    "где $T_\\text{ц}$ — период крутильных колебаний цилиндра.\n",
    "\n",
    "Скорость вращения ротора гироскопа можно определить и не прибегая к исследованию прецессии. У используемых в работе гироскопов статор имеет две обмотки необходимые для быстрой раскрутки гироскопа. В данной работе одну обмотку используют для раскрутки гироскопа, а вторую — для измерения числа оборотов ротора. Ротор электромотора всегда немного намагничен. Вращаясь, он наводит во второй обмотке переменную ЭДС индукции, частота которой равна частоте вращения ротора. Частоту этой ЭДС можно, в частности, измерить по фигурам Лиссажу, получаемым на экране осциллографа, если на один вход подать исследуемую ЭДС, а на другой — переменное напряжение с хорошо прокалиброванного генератора. При совпадении частот на эране получаем эллипс.\n",
    "\n",
    "Схема экспериментальной установки:\n",
    "\n",
    "<img src=\"image_3.png\" alt=\"Схема экспериментальной установки\" style=\"width:600px\">"
   ]
  },
  {
   "cell_type": "markdown",
   "metadata": {},
   "source": [
    "### "
   ]
  },
  {
   "cell_type": "markdown",
   "metadata": {},
   "source": [
    "**Импорт данных и библиотек:**"
   ]
  },
  {
   "cell_type": "markdown",
   "metadata": {},
   "source": [
    "### 1 Связь частоты прецессии с массой"
   ]
  },
  {
   "cell_type": "markdown",
   "metadata": {},
   "source": [
    "Частота прецессии обратно пропорциональна периоду, так как изменение угла одинаково для всех измерений:\n",
    ",\n",
    "$$\n",
    "\\Omega = \\dfrac{2\\pi}{T}\n",
    "$$\n",
    "\n",
    "Построим зависимость частоты от массы:"
   ]
  },
  {
   "cell_type": "code",
   "execution_count": null,
   "metadata": {},
   "outputs": [],
   "source": [
    "import numpy as np\n",
    "import pandas as pd\n",
    "from pandas.api.types import is_numeric_dtype\n",
    "\n",
    "import matplotlib.pyplot as plt\n",
    "import seaborn as sns"
   ]
  },
  {
   "cell_type": "code",
   "execution_count": null,
   "metadata": {},
   "outputs": [
    {
     "data": {
      "text/html": [
       "<div>\n",
       "<style scoped>\n",
       "    .dataframe tbody tr th:only-of-type {\n",
       "        vertical-align: middle;\n",
       "    }\n",
       "\n",
       "    .dataframe tbody tr th {\n",
       "        vertical-align: top;\n",
       "    }\n",
       "\n",
       "    .dataframe thead th {\n",
       "        text-align: right;\n",
       "    }\n",
       "</style>\n",
       "<table border=\"1\" class=\"dataframe\">\n",
       "  <thead>\n",
       "    <tr style=\"text-align: right;\">\n",
       "      <th></th>\n",
       "      <th>Масса, г</th>\n",
       "      <th>Периоды</th>\n",
       "      <th>Время, с</th>\n",
       "      <th>T</th>\n",
       "    </tr>\n",
       "  </thead>\n",
       "  <tbody>\n",
       "    <tr>\n",
       "      <th>0</th>\n",
       "      <td>57</td>\n",
       "      <td>1</td>\n",
       "      <td>173.74</td>\n",
       "      <td>173.740</td>\n",
       "    </tr>\n",
       "    <tr>\n",
       "      <th>1</th>\n",
       "      <td>338</td>\n",
       "      <td>4</td>\n",
       "      <td>118.49</td>\n",
       "      <td>29.622</td>\n",
       "    </tr>\n",
       "    <tr>\n",
       "      <th>2</th>\n",
       "      <td>268</td>\n",
       "      <td>4</td>\n",
       "      <td>148.86</td>\n",
       "      <td>37.215</td>\n",
       "    </tr>\n",
       "    <tr>\n",
       "      <th>3</th>\n",
       "      <td>215</td>\n",
       "      <td>2</td>\n",
       "      <td>92.88</td>\n",
       "      <td>46.440</td>\n",
       "    </tr>\n",
       "    <tr>\n",
       "      <th>4</th>\n",
       "      <td>173</td>\n",
       "      <td>2</td>\n",
       "      <td>115.43</td>\n",
       "      <td>57.715</td>\n",
       "    </tr>\n",
       "    <tr>\n",
       "      <th>5</th>\n",
       "      <td>142</td>\n",
       "      <td>2</td>\n",
       "      <td>141.05</td>\n",
       "      <td>70.525</td>\n",
       "    </tr>\n",
       "    <tr>\n",
       "      <th>6</th>\n",
       "      <td>93</td>\n",
       "      <td>1</td>\n",
       "      <td>106.17</td>\n",
       "      <td>106.170</td>\n",
       "    </tr>\n",
       "    <tr>\n",
       "      <th>7</th>\n",
       "      <td>76</td>\n",
       "      <td>1</td>\n",
       "      <td>129.76</td>\n",
       "      <td>129.760</td>\n",
       "    </tr>\n",
       "    <tr>\n",
       "      <th>8</th>\n",
       "      <td>60</td>\n",
       "      <td>1</td>\n",
       "      <td>165.51</td>\n",
       "      <td>165.510</td>\n",
       "    </tr>\n",
       "  </tbody>\n",
       "</table>\n",
       "</div>"
      ],
      "text/plain": [
       "   Масса, г  Периоды  Время, с        T\n",
       "0        57        1    173.74  173.740\n",
       "1       338        4    118.49   29.622\n",
       "2       268        4    148.86   37.215\n",
       "3       215        2     92.88   46.440\n",
       "4       173        2    115.43   57.715\n",
       "5       142        2    141.05   70.525\n",
       "6        93        1    106.17  106.170\n",
       "7        76        1    129.76  129.760\n",
       "8        60        1    165.51  165.510"
      ]
     },
     "metadata": {},
     "output_type": "display_data"
    }
   ],
   "source": [
    "periods_df = pd.read_csv('periods_data.csv')\n",
    "\n",
    "# convert to floats\n",
    "for col_name in periods_df.columns:\n",
    "    if not is_numeric_dtype(periods_df[col_name]):\n",
    "        periods_df[col_name] = periods_df[col_name].apply(lambda s: s.replace(',', '.')).astype(float)\n",
    "\n",
    "# round period to 3 decimal places\n",
    "periods_df['T'] = periods_df['T'].apply(lambda x: round(x, 3))\n",
    "\n",
    "periods_df"
   ]
  },
  {
   "cell_type": "code",
   "execution_count": 9,
   "metadata": {},
   "outputs": [],
   "source": [
    "periods_df['Omega'] = 2 * np.pi / ((periods_df['Время, с'] / periods_df['Периоды']))"
   ]
  },
  {
   "cell_type": "code",
   "execution_count": 18,
   "metadata": {},
   "outputs": [
    {
     "data": {
      "image/png": "[encoded data removed]",
      "text/plain": [
       "<Figure size 640x480 with 1 Axes>"
      ]
     },
     "metadata": {},
     "output_type": "display_data"
    }
   ],
   "source": [
    "x = periods_df['Масса, г']\n",
    "y = periods_df['Omega']\n",
    "\n",
    "fit = np.polyfit(x, y, 1)\n",
    "fit_fn = np.poly1d(fit)\n",
    "\n",
    "# Creating the point plot\n",
    "plt.scatter(x, y)\n",
    "\n",
    "# Plotting the fitting line\n",
    "plt.plot(x, fit_fn(x), '--k')\n",
    "\n",
    "# Add labels\n",
    "plt.xlabel('$m, г$')\n",
    "plt.ylabel('$\\\\Omega, с^{-1}$', rotation=0, labelpad=20)\n",
    "\n",
    "# Display the plot\n",
    "sns.despine()\n",
    "plt.show()"
   ]
  },
  {
   "cell_type": "markdown",
   "metadata": {},
   "source": [
    "Погрешность рассчитываем по формуле (они довольно малы, поэтому не отображаем их на графике):\n",
    "\n",
    "$$\n",
    "\\sigma_\\Omega^\\text{сист} = \\Omega \\varepsilon_T\n",
    "$$"
   ]
  },
  {
   "cell_type": "code",
   "execution_count": 34,
   "metadata": {},
   "outputs": [
    {
     "data": {
      "text/html": [
       "<div>\n",
       "<style scoped>\n",
       "    .dataframe tbody tr th:only-of-type {\n",
       "        vertical-align: middle;\n",
       "    }\n",
       "\n",
       "    .dataframe tbody tr th {\n",
       "        vertical-align: top;\n",
       "    }\n",
       "\n",
       "    .dataframe thead th {\n",
       "        text-align: right;\n",
       "    }\n",
       "</style>\n",
       "<table border=\"1\" class=\"dataframe\">\n",
       "  <thead>\n",
       "    <tr style=\"text-align: right;\">\n",
       "      <th></th>\n",
       "      <th>Масса, г</th>\n",
       "      <th>Периоды</th>\n",
       "      <th>Время, с</th>\n",
       "      <th>T</th>\n",
       "      <th>Omega</th>\n",
       "    </tr>\n",
       "  </thead>\n",
       "  <tbody>\n",
       "    <tr>\n",
       "      <th>0</th>\n",
       "      <td>57</td>\n",
       "      <td>1</td>\n",
       "      <td>173.74</td>\n",
       "      <td>173.740</td>\n",
       "      <td>0.036164</td>\n",
       "    </tr>\n",
       "    <tr>\n",
       "      <th>1</th>\n",
       "      <td>338</td>\n",
       "      <td>4</td>\n",
       "      <td>118.49</td>\n",
       "      <td>29.622</td>\n",
       "      <td>0.212109</td>\n",
       "    </tr>\n",
       "    <tr>\n",
       "      <th>2</th>\n",
       "      <td>268</td>\n",
       "      <td>4</td>\n",
       "      <td>148.86</td>\n",
       "      <td>37.215</td>\n",
       "      <td>0.168835</td>\n",
       "    </tr>\n",
       "    <tr>\n",
       "      <th>3</th>\n",
       "      <td>215</td>\n",
       "      <td>2</td>\n",
       "      <td>92.88</td>\n",
       "      <td>46.440</td>\n",
       "      <td>0.135297</td>\n",
       "    </tr>\n",
       "    <tr>\n",
       "      <th>4</th>\n",
       "      <td>173</td>\n",
       "      <td>2</td>\n",
       "      <td>115.43</td>\n",
       "      <td>57.715</td>\n",
       "      <td>0.108866</td>\n",
       "    </tr>\n",
       "    <tr>\n",
       "      <th>5</th>\n",
       "      <td>142</td>\n",
       "      <td>2</td>\n",
       "      <td>141.05</td>\n",
       "      <td>70.525</td>\n",
       "      <td>0.089092</td>\n",
       "    </tr>\n",
       "    <tr>\n",
       "      <th>6</th>\n",
       "      <td>93</td>\n",
       "      <td>1</td>\n",
       "      <td>106.17</td>\n",
       "      <td>106.170</td>\n",
       "      <td>0.059180</td>\n",
       "    </tr>\n",
       "    <tr>\n",
       "      <th>7</th>\n",
       "      <td>76</td>\n",
       "      <td>1</td>\n",
       "      <td>129.76</td>\n",
       "      <td>129.760</td>\n",
       "      <td>0.048422</td>\n",
       "    </tr>\n",
       "    <tr>\n",
       "      <th>8</th>\n",
       "      <td>60</td>\n",
       "      <td>1</td>\n",
       "      <td>165.51</td>\n",
       "      <td>165.510</td>\n",
       "      <td>0.037963</td>\n",
       "    </tr>\n",
       "  </tbody>\n",
       "</table>\n",
       "</div>"
      ],
      "text/plain": [
       "   Масса, г  Периоды  Время, с        T     Omega\n",
       "0        57        1    173.74  173.740  0.036164\n",
       "1       338        4    118.49   29.622  0.212109\n",
       "2       268        4    148.86   37.215  0.168835\n",
       "3       215        2     92.88   46.440  0.135297\n",
       "4       173        2    115.43   57.715  0.108866\n",
       "5       142        2    141.05   70.525  0.089092\n",
       "6        93        1    106.17  106.170  0.059180\n",
       "7        76        1    129.76  129.760  0.048422\n",
       "8        60        1    165.51  165.510  0.037963"
      ]
     },
     "execution_count": 34,
     "metadata": {},
     "output_type": "execute_result"
    }
   ],
   "source": [
    "periods_df"
   ]
  },
  {
   "cell_type": "code",
   "execution_count": 38,
   "metadata": {},
   "outputs": [],
   "source": [
    "import math\n",
    "\n",
    "def count_decimal_places(value):\n",
    "    if value == 0:\n",
    "        return 0\n",
    "    return -int(math.floor(math.log10(abs(value)))) + 1"
   ]
  },
  {
   "cell_type": "code",
   "execution_count": 40,
   "metadata": {},
   "outputs": [
    {
     "name": "stdout",
     "output_type": "stream",
     "text": [
      "Груз №1:\n",
      "3.616 +- 0.04 * 10^-2 * с^-1\n",
      "-----\n",
      "Груз №2:\n",
      "21.21 +- 0.2 * 10^-2 * с^-1\n",
      "-----\n",
      "Груз №3:\n",
      "16.88 +- 0.2 * 10^-2 * с^-1\n",
      "-----\n",
      "Груз №4:\n",
      "13.53 +- 0.1 * 10^-2 * с^-1\n",
      "-----\n",
      "Груз №5:\n",
      "10.89 +- 0.1 * 10^-2 * с^-1\n",
      "-----\n",
      "Груз №6:\n",
      "8.909 +- 0.09 * 10^-2 * с^-1\n",
      "-----\n",
      "Груз №7:\n",
      "5.918 +- 0.06 * 10^-2 * с^-1\n",
      "-----\n",
      "Груз №8:\n",
      "4.842 +- 0.05 * 10^-2 * с^-1\n",
      "-----\n",
      "Груз №9:\n",
      "3.796 +- 0.04 * 10^-2 * с^-1\n",
      "-----\n"
     ]
    }
   ],
   "source": [
    "for i, omega in enumerate(periods_df['Omega']):\n",
    "    print(f'Груз №{i+1}:')\n",
    "    decimal_places = count_decimal_places(omega * 0.01 * 100)\n",
    "    print(f'{omega * 100:.{decimal_places}f} +- {omega * 0.01 * 100:.1g} * 10^-2 * с^-1')\n",
    "    print('-----')"
   ]
  },
  {
   "cell_type": "markdown",
   "metadata": {},
   "source": [
    "### 2 Момент инерции ротора гироскопа "
   ]
  },
  {
   "cell_type": "code",
   "execution_count": 8,
   "metadata": {},
   "outputs": [],
   "source": [
    "# Calculated in Excel\n",
    "# TODO: to Python for reproducibility"
   ]
  },
  {
   "cell_type": "markdown",
   "metadata": {},
   "source": [
    "Погрешность момента инерции:\n",
    "\n",
    "$\\sigma_{I_0} = I_0\\cdot\\sqrt{\\varepsilon_{I_\\text{ц}}^2+ 4\\varepsilon_{T_0}^2+ 4\\varepsilon_{T_\\text{ц}}^2 } \\approx 0,03$ кг$\\cdot \\text{м}^2$\n",
    "\n",
    "Итого, момент инерции ротора гироскопа:\n",
    "\n",
    "$I_0 = (0,80\\pm 0,03)$ кг$\\cdot \\text{м}^2$"
   ]
  },
  {
   "cell_type": "markdown",
   "metadata": {},
   "source": [
    "####  Выводы\n",
    "\n",
    "1) Связь частоты прецессии с массой удалось выявить. Методом МНК была построена прямая, показывающая прямую пропорциональность, на неё легли все точки. Погрешность измерений частоты оказалась небольшой.\n",
    "\n",
    "2) Момент инерции ротора гироскопа получился в адекватном диапазоне: $I_0 = (0,80\\pm 0,03)$ кг$\\cdot \\text{м}^2$\n",
    "\n",
    "3) Мы наконец-то научились правильно округлять!!!"
   ]
  }
 ],
 "metadata": {
  "kernelspec": {
   "display_name": "base-ds",
   "language": "python",
   "name": "python3"
  },
  "language_info": {
   "codemirror_mode": {
    "name": "ipython",
    "version": 3
   },
   "file_extension": ".py",
   "mimetype": "text/x-python",
   "name": "python",
   "nbconvert_exporter": "python",
   "pygments_lexer": "ipython3",
   "version": "3.12.0"
  }
 },
 "nbformat": 4,
 "nbformat_minor": 2
}
