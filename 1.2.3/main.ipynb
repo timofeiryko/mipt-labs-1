{
 "cells": [
  {
   "cell_type": "markdown",
   "metadata": {},
   "source": [
    "## Определение моментов инерции твердых тел с помощью трифилярного подвеса"
   ]
  },
  {
   "cell_type": "markdown",
   "metadata": {},
   "source": [
    "### 0 Введение\n",
    "\n",
    "**Цель**: измерение момента инерции тел и сравнение результатов с расчётами по теоретическим формулам; проверка аддитивности моментов инерции и справедливости формулы Гюйгенса-Штейнера.\n",
    "\n",
    "**Оборудование**: трифилярный подвес, секундомер, счетчик числа колебаний, набор тел, момент инерции которых надлежит измерить (диск, стержень, полный цилиндр и другие).\n",
    "\n",
    "#### Теория: трифилярный подвес\n",
    "\n",
    "Измерение момента инерции тел производится с помощью трифилярного подвеса. Он состоит из укрепленной на некоторой высоте неподвижной платформы 𝑃 и подвешенной к ней на трех симметрично расположенных нитях 𝐴𝐴′, 𝐵𝐵′ и 𝐶𝐶′, вращающейся платформы 𝑃′. Чтобы не вызывать дополнительных раскачиваний, лучше поворачивать верхнюю платформу, укрепленную на неподвижной оси. После поворота верхняя платформа остается неподвижной в течение всего процесса колебаний. После того, как нижняя платформа 𝑃′ оказывается повернутой на угол 𝜙 относительно верхней платформы 𝑃, возникает момент сил, стремящийся вернуть нижнюю платформу в положение равновесия, при котором относительный поворот платформ отсутствует. В результате платформа совершает крутильные колебания.\n",
    "\n",
    "<img src=\"image_1.png\" alt=\"Трифилярный подвес\" style=\"width:600px\">\n",
    "\n",
    "####  Теория: Момент инерции твердого тела\n",
    "\n",
    "Инерционность при вращении тела относительно оси определяется моментом инерции тела относительно этой оси. Момент инерции твердого тела относительно неподвижной оси вращения вычисляется по формуле:\n",
    "\n",
    "$$\n",
    "I = \\int r^2 dm\n",
    "$$\n",
    "\n",
    "Здесь $r$ — расстояние элемента массы тела $dm$ от оси вращения. Интегрирование проводится по всей массе тела $m$.\n",
    "\n",
    "Если пренебречь потерями энергии на трение о воздух и крепление нитей, то уравнение сохранения энергии при колебаниях можно записать следующим образом:\n",
    "\n",
    "$$\n",
    "\\frac{I \\dot{\\varphi^2}}{2} + mg(z_0-z) = E\n",
    "$$\n",
    "\n",
    "Здесь $I$ — момент инерции платформы вместе с исследуемым телом, $m$ — масса платформы с телом, $\\varphi$ — угол поворота платформы от положения равновесия системы, $z_0$ — координата по вертикали центра нижней платформы $O'$  при равновесии ($\\varphi = 0$), $z$ — координата той же точки при некотором угле поворота $\\varphi$. Первый член в левой части уравнения — кинетическая энергия вращения, второй член — потенциальная энергия в поле тяжести, $E$ — полная энергия системы (платформы с телом).\n",
    "\n",
    "Воспользуемся системой координат $x, y, z$, связанной с верхней платформой. Координаты верхнего конца одной из нитей подвеса точки $C$ в этой системе — $(r, 0, 0)$. Нижний конец данной нити $C'$, находящийся на нижней платформе, при равновесии имеет координаты $(R, 0, z_0)$, а при повороте платформы на угол $\\varphi$ эта точка переходит в $C''$ с координатами $(R cos\\varphi, R sin\\varphi, z)$. расстояние между точками $C$ и $C''$ равно длине нити, поэтому, после некоторых преобразований, получаем: \n",
    "\n",
    "$$\n",
    "(R\\cos\\phi - r)^2 + R^2\\sin^2\\phi + z^2 = L^2\n",
    "$$\n",
    "$$\n",
    "z^2 = L^2 - R^2 - r^2 + 2Rr\\cos\\phi \\approx z^2_{0} - 2Rr(1 - \\cos\\phi) \\approx z^2_{0} - Rr\\phi^2\n",
    "$$\n",
    "$$\n",
    "z = \\sqrt{z^2_{0} - Rr\\phi^2} \\approx z_{0} - \\frac{Rr\\phi^2}{2z_{0}}\n",
    "$$\n",
    "\n",
    "Подставляя $z$ в уравнение, получаем:\n",
    "\n",
    "$$\n",
    "\\frac{1}{2}I\\dot{\\varphi^2} + mg \\frac{Rr}{2z_0}\\varphi^2 = E\n",
    "$$\n",
    "\t\n",
    "Дифференцируя по времени и сокращая на $\\dot\\varphi$, находим уравнение крутильных колебаний системы:\n",
    "\n",
    "$$\n",
    "I\\ddot\\varphi^2 + mg\\frac{Rr}{2z_0}\\varphi^2 = 0\n",
    "$$\n",
    "    \n",
    "Производная по времени от $E$ равна нулю, так как потерями на трение, как уже было сказано выше, пренебрегаем.\n",
    "\n",
    "Решение этого уравнения имеет вид:\n",
    "\n",
    "$$\n",
    "\\varphi = \\varphi_0 sin \\left(\\sqrt{\\frac{mgRr}{Iz_0}}t + \\theta\\right)\n",
    "$$\n",
    "\n",
    "Здесь амплитуда $\\varphi_0$ и фаза $\\theta$ колебаний определяются начальными условиями. Период крутильных колебаний нашей системы равен:\n",
    "\n",
    "$$\n",
    "T = 2\\pi \\sqrt{\\frac{Iz_0}{mgRr}}\n",
    "$$\n",
    "\n",
    "Из формулы для периода получаем:\n",
    "\n",
    "$$\n",
    "    I = \\frac{mgRrT^2}{4 \\pi^2z_0} = kmT^2\n",
    "$$\n",
    "\n",
    "где $k = \\frac{gRr}{4\\pi^2z_0}$ — величина, постоянная для данной установки."
   ]
  },
  {
   "cell_type": "code",
   "execution_count": 26,
   "metadata": {},
   "outputs": [],
   "source": [
    "import pandas as pd\n",
    "from pandas.api.types import is_numeric_dtype\n",
    "import numpy as np\n",
    "\n",
    "import matplotlib.pyplot as plt\n",
    "import seaborn as sns\n",
    "\n",
    "from scipy import stats"
   ]
  },
  {
   "cell_type": "markdown",
   "metadata": {},
   "source": [
    "### 1 Зависимость периода"
   ]
  },
  {
   "cell_type": "markdown",
   "metadata": {},
   "source": [
    "Подгрузим данные:"
   ]
  },
  {
   "cell_type": "code",
   "execution_count": 2,
   "metadata": {},
   "outputs": [
    {
     "data": {
      "text/html": [
       "<div>\n",
       "<style scoped>\n",
       "    .dataframe tbody tr th:only-of-type {\n",
       "        vertical-align: middle;\n",
       "    }\n",
       "\n",
       "    .dataframe tbody tr th {\n",
       "        vertical-align: top;\n",
       "    }\n",
       "\n",
       "    .dataframe thead th {\n",
       "        text-align: right;\n",
       "    }\n",
       "</style>\n",
       "<table border=\"1\" class=\"dataframe\">\n",
       "  <thead>\n",
       "    <tr style=\"text-align: right;\">\n",
       "      <th></th>\n",
       "      <th>Примерный угол</th>\n",
       "      <th>Общее время, с</th>\n",
       "      <th>Количество периодов</th>\n",
       "      <th>Период, с</th>\n",
       "    </tr>\n",
       "  </thead>\n",
       "  <tbody>\n",
       "    <tr>\n",
       "      <th>0</th>\n",
       "      <td>30</td>\n",
       "      <td>26.399</td>\n",
       "      <td>12</td>\n",
       "      <td>2.200</td>\n",
       "    </tr>\n",
       "    <tr>\n",
       "      <th>1</th>\n",
       "      <td>15</td>\n",
       "      <td>26.170</td>\n",
       "      <td>12</td>\n",
       "      <td>2.181</td>\n",
       "    </tr>\n",
       "    <tr>\n",
       "      <th>2</th>\n",
       "      <td>10</td>\n",
       "      <td>21.720</td>\n",
       "      <td>10</td>\n",
       "      <td>2.172</td>\n",
       "    </tr>\n",
       "    <tr>\n",
       "      <th>3</th>\n",
       "      <td>5</td>\n",
       "      <td>21.630</td>\n",
       "      <td>10</td>\n",
       "      <td>2.163</td>\n",
       "    </tr>\n",
       "  </tbody>\n",
       "</table>\n",
       "</div>"
      ],
      "text/plain": [
       "   Примерный угол  Общее время, с  Количество периодов  Период, с\n",
       "0              30          26.399                   12      2.200\n",
       "1              15          26.170                   12      2.181\n",
       "2              10          21.720                   10      2.172\n",
       "3               5          21.630                   10      2.163"
      ]
     },
     "execution_count": 2,
     "metadata": {},
     "output_type": "execute_result"
    }
   ],
   "source": [
    "df_1 = pd.read_csv('data_1.csv')\n",
    "\n",
    "# convert to floats\n",
    "for col_name in df_1.columns:\n",
    "    if not is_numeric_dtype(df_1[col_name]):\n",
    "        df_1[col_name] = df_1[col_name].apply(lambda s: s.replace(',', '.')).astype(float)\n",
    "\n",
    "# round period to 3 decimal places\n",
    "df_1['Период, с'] = df_1['Период, с'].apply(lambda x: round(x, 3))\n",
    "\n",
    "df_1"
   ]
  },
  {
   "cell_type": "markdown",
   "metadata": {},
   "source": [
    "Приборная погрешность измерения времени достаточно мала, так как она производится автоматически за счёт встроенного в установку лазера, мы её не учитываем.\n",
    "\n",
    "Проверим, не зависит ли период от угла отклонения."
   ]
  },
  {
   "cell_type": "code",
   "execution_count": 3,
   "metadata": {},
   "outputs": [
    {
     "data": {
      "image/png": "[encoded data removed]",
      "text/plain": [
       "<Figure size 1000x600 with 1 Axes>"
      ]
     },
     "metadata": {},
     "output_type": "display_data"
    }
   ],
   "source": [
    "# Зависимость периода от угла\n",
    "plt.figure(figsize=(10, 6))\n",
    "plt.plot(df_1['Примерный угол'], df_1['Период, с'], 'o')\n",
    "plt.xlabel('Примерный угол, градусы')\n",
    "plt.ylabel('Период, с')\n",
    "plt.grid()\n",
    "sns.despine()\n",
    "plt.show()"
   ]
  },
  {
   "cell_type": "markdown",
   "metadata": {},
   "source": [
    "К сожалению, зависимость есть — это связано с затуханием колебаний из-за трения: чем больше угол, тем сильнее они затухают. Однако при угле отклонения меньше 15 градусов зависимость относительно слабая, в данном эксперименте мы используем небольшой угол отклонения и не учитываем её. Примем систематическую погрешность, связанную с затуханием, за 0.005 с."
   ]
  },
  {
   "cell_type": "markdown",
   "metadata": {},
   "source": [
    "#### 2 Параметры установки"
   ]
  },
  {
   "cell_type": "markdown",
   "metadata": {},
   "source": [
    "Параметр, постоянный для данной установки, рассчитывается по формуле:\n",
    "\n",
    "$$\n",
    "k = \\frac{gRr}{4\\pi^2z_0}\n",
    "$$"
   ]
  },
  {
   "cell_type": "markdown",
   "metadata": {},
   "source": [
    "Из таблиц имеем значение $g = (9.8155 ± 0.0005) м^2 с^{−2}$ для Москвы:"
   ]
  },
  {
   "cell_type": "code",
   "execution_count": 4,
   "metadata": {},
   "outputs": [],
   "source": [
    "g = 9.8155\n",
    "sigma_g = 0.0005"
   ]
  },
  {
   "cell_type": "markdown",
   "metadata": {},
   "source": [
    "Измеренные параметры нашей установки:"
   ]
  },
  {
   "cell_type": "code",
   "execution_count": 5,
   "metadata": {},
   "outputs": [],
   "source": [
    "z_0 = 215.4 / 100\n",
    "sigma_z_0 = 0.1 / 100\n",
    "\n",
    "R = 114.6 / 1000\n",
    "sigma_R = 0.5\n",
    "\n",
    "r = 30.2 / 1000\n",
    "sigma_r = 0.5\n",
    "\n",
    "m = 965.7 / 1000\n",
    "sigma_m = 0.5"
   ]
  },
  {
   "cell_type": "markdown",
   "metadata": {},
   "source": [
    "Погрешность k считаем по формуле:\n",
    "\n",
    "$$\n",
    "\\sigma_k=k\\sqrt{\\left(\\frac{\\Delta g}{g}\\right)^2 + \\left(\\frac{\\Delta r}{r}\\right)^2 + \\left(\\frac{\\Delta R}{R}\\right)^2 + \\left(\\frac{\\Delta z_0}{z_0}\\right)^2}\\\n",
    "$$"
   ]
  },
  {
   "cell_type": "code",
   "execution_count": 6,
   "metadata": {},
   "outputs": [
    {
     "name": "stdout",
     "output_type": "stream",
     "text": [
      "k = 0.000399 +- 0.0068\n"
     ]
    }
   ],
   "source": [
    "k = g * R * r / (4 * np.pi**2 * z_0)\n",
    "sigma_k = k * ((sigma_g / g)**2 + (sigma_r / r)**2 + (sigma_R / R)**2 + (sigma_z_0 / z_0)**2)**0.5\n",
    "\n",
    "print(f'k = {k:.3} +- {sigma_k:.2}')"
   ]
  },
  {
   "cell_type": "markdown",
   "metadata": {},
   "source": [
    "Момент инерции платформы рассчитывается по формуле:\n",
    "\n",
    "$$\n",
    "I = k m T^2\n",
    "$$\n",
    "\n",
    "Погрешности считаем аналогично."
   ]
  },
  {
   "cell_type": "code",
   "execution_count": 7,
   "metadata": {},
   "outputs": [
    {
     "name": "stdout",
     "output_type": "stream",
     "text": [
      "I = 0.00182 +- 0.031\n"
     ]
    }
   ],
   "source": [
    "T = df_1['Период, с'].iloc[-2]\n",
    "sigma_T = 0.005\n",
    "\n",
    "I = k * m * T**2\n",
    "sigma_I = I * ((sigma_k / k)**2 + (2 * sigma_T / T)**2 + (sigma_m / m)**2)**0.5\n",
    "\n",
    "print(f'I = {I:.3} +- {sigma_I:.2}')"
   ]
  },
  {
   "cell_type": "markdown",
   "metadata": {},
   "source": [
    "#### 3 Определение моментов инерции различных тел и аддитивность моментов инерции"
   ]
  },
  {
   "cell_type": "markdown",
   "metadata": {},
   "source": [
    "##### Теоретические расчёты\n",
    "\n",
    "Формулы для теоретического расчёта моментов инерции:\n",
    "\n",
    "$$\n",
    "I_{disk} = \\dfrac{mR^2}{2}\n",
    "$$\n",
    "$$\n",
    "I_{ring} = mR^2\n",
    "$$\n",
    "$$\n",
    "I_{stick} = \\dfrac{mL^2}{12}\n",
    "$$"
   ]
  },
  {
   "cell_type": "markdown",
   "metadata": {},
   "source": [
    "**Стоит отметить, что эти формулы довольно грубые: например, мы не учитываем толщину кольца, или то, что на самом деле мы работаем не со стержнем, а с бруском. Поэтому у нас возникает некоторая систематическая погрешность, связанная с неточностью формул.**"
   ]
  },
  {
   "cell_type": "markdown",
   "metadata": {},
   "source": [
    "Исходя из измеренных параметров исследуемых тел определим теоретические значения их моментов инерции, в $кг \\cdot м^2 \\cdot 10^{-2}$:"
   ]
  },
  {
   "cell_type": "code",
   "execution_count": 8,
   "metadata": {},
   "outputs": [
    {
     "name": "stdout",
     "output_type": "stream",
     "text": [
      "Момент инерции диска: 0.1459 +- 0.549\n"
     ]
    }
   ],
   "source": [
    "m_disk_theory = 585.6 / 1000\n",
    "R_disk_theory = 70.6 / 1000\n",
    "I_disk_theory = m_disk_theory * (R_disk_theory ** 2) / 2\n",
    "\n",
    "m_disk_theory_sigma = 0.1 / 1000\n",
    "R_disk_theory_sigma = 0.5\n",
    "I_disk_theory_sigma = (2 * (R_disk_theory_sigma / R_disk_theory) + m_disk_theory_sigma / m_disk_theory ) ** 0.5 * ( I_disk_theory)\n",
    "\n",
    "print(f'Момент инерции диска: {I_disk_theory * 10**2:.4} +- {I_disk_theory_sigma * 10**2:.3}')"
   ]
  },
  {
   "cell_type": "code",
   "execution_count": 9,
   "metadata": {},
   "outputs": [
    {
     "name": "stdout",
     "output_type": "stream",
     "text": [
      "Момент инерции кольца: 0.43 +- 1.598\n"
     ]
    }
   ],
   "source": [
    "m_ring_theory = 821.1 / 1000\n",
    "R_ring_theory = 72.35 / 1000\n",
    "I_ring_theory = m_ring_theory * (R_ring_theory ** 2)\n",
    "\n",
    "m_ring_theory_sigma = 0.1 / 1000\n",
    "R_ring_theory_sigma = 0.5\n",
    "I_ring_theory_sigma = (2 * (R_ring_theory_sigma / R_ring_theory) + m_ring_theory_sigma / m_ring_theory ) ** 0.5 * ( I_ring_theory)\n",
    "\n",
    "print(f'Момент инерции кольца: {I_ring_theory * 10**2 :.3} +- {I_ring_theory_sigma * 10**2 :.4}')"
   ]
  },
  {
   "cell_type": "code",
   "execution_count": 10,
   "metadata": {},
   "outputs": [
    {
     "name": "stdout",
     "output_type": "stream",
     "text": [
      "Момент инерции стержня: 0.00459 +- 0.03129\n"
     ]
    }
   ],
   "source": [
    "m_stick_theory = 1191.0 / 1000\n",
    "R_stick_theory = 21.5 / 1000\n",
    "I_stick_theory = m_stick_theory * (R_stick_theory ** 2) / 12\n",
    "\n",
    "m_stick_theory_sigma = 0.1 / 1000\n",
    "R_stick_theory_sigma = 0.5\n",
    "I_stick_theory_sigma = (2 * (R_stick_theory_sigma / R_stick_theory) + m_stick_theory_sigma / m_stick_theory ) ** 0.5 * ( I_stick_theory)\n",
    "\n",
    "print(f'Момент инерции стержня: {I_stick_theory * 10**2 :.3} +- {I_stick_theory_sigma * 10**2 :.4}')"
   ]
  },
  {
   "cell_type": "markdown",
   "metadata": {},
   "source": [
    "##### Измерения с помощью установки"
   ]
  },
  {
   "cell_type": "markdown",
   "metadata": {},
   "source": [
    "Загрузим данные:"
   ]
  },
  {
   "cell_type": "code",
   "execution_count": 11,
   "metadata": {},
   "outputs": [
    {
     "data": {
      "text/html": [
       "<div>\n",
       "<style scoped>\n",
       "    .dataframe tbody tr th:only-of-type {\n",
       "        vertical-align: middle;\n",
       "    }\n",
       "\n",
       "    .dataframe tbody tr th {\n",
       "        vertical-align: top;\n",
       "    }\n",
       "\n",
       "    .dataframe thead th {\n",
       "        text-align: right;\n",
       "    }\n",
       "</style>\n",
       "<table border=\"1\" class=\"dataframe\">\n",
       "  <thead>\n",
       "    <tr style=\"text-align: right;\">\n",
       "      <th></th>\n",
       "      <th>Тело</th>\n",
       "      <th>Общее время, с</th>\n",
       "      <th>Количество периодов</th>\n",
       "      <th>Период, с</th>\n",
       "    </tr>\n",
       "  </thead>\n",
       "  <tbody>\n",
       "    <tr>\n",
       "      <th>0</th>\n",
       "      <td>Диск</td>\n",
       "      <td>25.575</td>\n",
       "      <td>13</td>\n",
       "      <td>1.967</td>\n",
       "    </tr>\n",
       "    <tr>\n",
       "      <th>1</th>\n",
       "      <td>Кольцо</td>\n",
       "      <td>35.815</td>\n",
       "      <td>17</td>\n",
       "      <td>2.107</td>\n",
       "    </tr>\n",
       "    <tr>\n",
       "      <th>2</th>\n",
       "      <td>Брусок (стержень)</td>\n",
       "      <td>24.439</td>\n",
       "      <td>13</td>\n",
       "      <td>1.880</td>\n",
       "    </tr>\n",
       "    <tr>\n",
       "      <th>3</th>\n",
       "      <td>Диск + кольцо</td>\n",
       "      <td>25.757</td>\n",
       "      <td>13</td>\n",
       "      <td>1.981</td>\n",
       "    </tr>\n",
       "  </tbody>\n",
       "</table>\n",
       "</div>"
      ],
      "text/plain": [
       "                Тело  Общее время, с  Количество периодов  Период, с\n",
       "0               Диск          25.575                   13      1.967\n",
       "1             Кольцо          35.815                   17      2.107\n",
       "2  Брусок (стержень)          24.439                   13      1.880\n",
       "3      Диск + кольцо          25.757                   13      1.981"
      ]
     },
     "execution_count": 11,
     "metadata": {},
     "output_type": "execute_result"
    }
   ],
   "source": [
    "df_2 = pd.read_csv('data_2.csv')\n",
    "\n",
    "# convert to floats\n",
    "for col_name in df_2.columns:\n",
    "    if not is_numeric_dtype(df_2[col_name]) and col_name != 'Тело':\n",
    "        df_2[col_name] = df_2[col_name].apply(lambda s: s.replace(',', '.')).astype(float)\n",
    "\n",
    "# round period to 3 decimal places\n",
    "df_2['Период, с'] = df_2['Период, с'].apply(lambda x: round(x, 3))\n",
    "\n",
    "df_2"
   ]
  },
  {
   "cell_type": "markdown",
   "metadata": {},
   "source": [
    "Теперь рассчитаем моменты инерции и погрешности:"
   ]
  },
  {
   "cell_type": "code",
   "execution_count": 12,
   "metadata": {},
   "outputs": [
    {
     "name": "stdout",
     "output_type": "stream",
     "text": [
      "Момент инерции дле тел(а) \"Диск\": 0.0905 +- 53.07\n",
      "Момент инерции дле тел(а) \"Кольцо\": 0.146 +- 85.38\n",
      "Момент инерции дле тел(а) \"Брусок (стержень)\": 0.168 +- 98.59\n",
      "Момент инерции дле тел(а) \"Диск + кольцо\": 0.221 +- 129.3\n"
     ]
    }
   ],
   "source": [
    "masses = [m_disk_theory, m_ring_theory, m_stick_theory, m_disk_theory + m_ring_theory]\n",
    "\n",
    "for index, row in df_2.iterrows():\n",
    "\n",
    "    body_name = row.iloc[0]\n",
    "    T = row.iloc[3]\n",
    "\n",
    "    m = masses[index]\n",
    "    sigma_m = 0.1 / 1000\n",
    "\n",
    "    I = k * m * T**2\n",
    "    sigma_I = (2 * (sigma_k / k)**2 + (sigma_T / T)**2 + (sigma_m / m)**2) * I\n",
    "\n",
    "    print(f'Момент инерции дле тел(а) \"{body_name}\": {I * 10**2 :.3} +- {sigma_I * 10**2 :.4}')"
   ]
  },
  {
   "cell_type": "markdown",
   "metadata": {},
   "source": [
    "Как мы видим, результаты для кольца более или менее сошлись, для диска теоретическое значение довольно сильно завышено, а для бруска — очень сильно занижено. Вероятно, это связано с приближенными формулами для моментов инерции, которые мы использовали.\n",
    "\n",
    "Значение для стержня отличается настолько сильно, что, скорее всего, имеет место ошибка в измерениях."
   ]
  },
  {
   "cell_type": "markdown",
   "metadata": {},
   "source": [
    "Что касается аддитивности — при сложении моментов инерции он получается примерно на 7 процентов больше, чем измеренный:"
   ]
  },
  {
   "cell_type": "code",
   "execution_count": 13,
   "metadata": {},
   "outputs": [
    {
     "data": {
      "text/plain": [
       "1.0701357466063348"
      ]
     },
     "execution_count": 13,
     "metadata": {},
     "output_type": "execute_result"
    }
   ],
   "source": [
    "(0.0905+0.146) / 0.221"
   ]
  },
  {
   "cell_type": "markdown",
   "metadata": {},
   "source": [
    "#### 4 Формула Гюйгенса-Штейнера"
   ]
  },
  {
   "cell_type": "markdown",
   "metadata": {},
   "source": [
    "Загрузим данные:"
   ]
  },
  {
   "cell_type": "code",
   "execution_count": 14,
   "metadata": {},
   "outputs": [
    {
     "data": {
      "text/html": [
       "<div>\n",
       "<style scoped>\n",
       "    .dataframe tbody tr th:only-of-type {\n",
       "        vertical-align: middle;\n",
       "    }\n",
       "\n",
       "    .dataframe tbody tr th {\n",
       "        vertical-align: top;\n",
       "    }\n",
       "\n",
       "    .dataframe thead th {\n",
       "        text-align: right;\n",
       "    }\n",
       "</style>\n",
       "<table border=\"1\" class=\"dataframe\">\n",
       "  <thead>\n",
       "    <tr style=\"text-align: right;\">\n",
       "      <th></th>\n",
       "      <th>Общее время, с</th>\n",
       "      <th>Количество периодов</th>\n",
       "      <th>Период, с</th>\n",
       "      <th>Сдвиг, мм</th>\n",
       "    </tr>\n",
       "  </thead>\n",
       "  <tbody>\n",
       "    <tr>\n",
       "      <th>0</th>\n",
       "      <td>29.399</td>\n",
       "      <td>19</td>\n",
       "      <td>1.547</td>\n",
       "      <td>0</td>\n",
       "    </tr>\n",
       "    <tr>\n",
       "      <th>1</th>\n",
       "      <td>26.366</td>\n",
       "      <td>17</td>\n",
       "      <td>1.551</td>\n",
       "      <td>9</td>\n",
       "    </tr>\n",
       "    <tr>\n",
       "      <th>2</th>\n",
       "      <td>28.097</td>\n",
       "      <td>18</td>\n",
       "      <td>1.561</td>\n",
       "      <td>17</td>\n",
       "    </tr>\n",
       "    <tr>\n",
       "      <th>3</th>\n",
       "      <td>26.819</td>\n",
       "      <td>17</td>\n",
       "      <td>1.578</td>\n",
       "      <td>31</td>\n",
       "    </tr>\n",
       "    <tr>\n",
       "      <th>4</th>\n",
       "      <td>27.510</td>\n",
       "      <td>17</td>\n",
       "      <td>1.618</td>\n",
       "      <td>45</td>\n",
       "    </tr>\n",
       "    <tr>\n",
       "      <th>5</th>\n",
       "      <td>32.753</td>\n",
       "      <td>20</td>\n",
       "      <td>1.638</td>\n",
       "      <td>55</td>\n",
       "    </tr>\n",
       "    <tr>\n",
       "      <th>6</th>\n",
       "      <td>28.556</td>\n",
       "      <td>17</td>\n",
       "      <td>1.680</td>\n",
       "      <td>65</td>\n",
       "    </tr>\n",
       "    <tr>\n",
       "      <th>7</th>\n",
       "      <td>29.216</td>\n",
       "      <td>17</td>\n",
       "      <td>1.719</td>\n",
       "      <td>75</td>\n",
       "    </tr>\n",
       "    <tr>\n",
       "      <th>8</th>\n",
       "      <td>29.772</td>\n",
       "      <td>17</td>\n",
       "      <td>1.751</td>\n",
       "      <td>85</td>\n",
       "    </tr>\n",
       "    <tr>\n",
       "      <th>9</th>\n",
       "      <td>30.279</td>\n",
       "      <td>17</td>\n",
       "      <td>1.781</td>\n",
       "      <td>95</td>\n",
       "    </tr>\n",
       "    <tr>\n",
       "      <th>10</th>\n",
       "      <td>31.354</td>\n",
       "      <td>17</td>\n",
       "      <td>1.844</td>\n",
       "      <td>105</td>\n",
       "    </tr>\n",
       "  </tbody>\n",
       "</table>\n",
       "</div>"
      ],
      "text/plain": [
       "    Общее время, с  Количество периодов  Период, с  Сдвиг, мм\n",
       "0           29.399                   19      1.547          0\n",
       "1           26.366                   17      1.551          9\n",
       "2           28.097                   18      1.561         17\n",
       "3           26.819                   17      1.578         31\n",
       "4           27.510                   17      1.618         45\n",
       "5           32.753                   20      1.638         55\n",
       "6           28.556                   17      1.680         65\n",
       "7           29.216                   17      1.719         75\n",
       "8           29.772                   17      1.751         85\n",
       "9           30.279                   17      1.781         95\n",
       "10          31.354                   17      1.844        105"
      ]
     },
     "execution_count": 14,
     "metadata": {},
     "output_type": "execute_result"
    }
   ],
   "source": [
    "df_3 = pd.read_csv('data_3.csv')\n",
    "\n",
    "# convert to floats\n",
    "for col_name in df_3.columns:\n",
    "    if not is_numeric_dtype(df_3[col_name]):\n",
    "        df_3[col_name] = df_3[col_name].apply(lambda s: s.replace(',', '.')).astype(float)\n",
    "\n",
    "# round period to 3 decimal places\n",
    "df_3['Период, с'] = df_3['Период, с'].apply(lambda x: round(x, 3))\n",
    "\n",
    "df_3"
   ]
  },
  {
   "cell_type": "code",
   "execution_count": 25,
   "metadata": {},
   "outputs": [
    {
     "data": {
      "image/png": "[encoded data removed]",
      "text/plain": [
       "<Figure size 640x480 with 1 Axes>"
      ]
     },
     "metadata": {},
     "output_type": "display_data"
    }
   ],
   "source": [
    "df_3['I / (k * m)'] = df_3['Период, с'] ** 2\n",
    "\n",
    "sns.regplot(\n",
    "    x='Сдвиг, мм',\n",
    "    y='I / (k * m)',\n",
    "    data=df_3,\n",
    "    scatter_kws={'s': 15}\n",
    ")\n",
    "\n",
    "plt.show()"
   ]
  },
  {
   "cell_type": "code",
   "execution_count": 28,
   "metadata": {},
   "outputs": [
    {
     "data": {
      "text/plain": [
       "0.9458436206619196"
      ]
     },
     "execution_count": 28,
     "metadata": {},
     "output_type": "execute_result"
    }
   ],
   "source": [
    "slope, intercept, r_value, p_value, std_err = stats.linregress(df_3['Сдвиг, мм'], df_3['I / (k * m)'])\n",
    "r_squared = r_value**2\n",
    "r_squared"
   ]
  },
  {
   "cell_type": "markdown",
   "metadata": {},
   "source": [
    "В целом, точки ложатся на линию, R**2 > 0.9, однако далеко не идеально..."
   ]
  },
  {
   "cell_type": "markdown",
   "metadata": {},
   "source": [
    "#### Выводы\n",
    "\n",
    "1) К сожалению, существует зависимость периода от угла отклонения — это связано с затуханием колебаний из-за трения: чем больше угол, тем сильнее они затухают. Однако при угле отклонения меньше 15 градусов зависимость относительно слабая, в данном эксперименте мы используем небольшой угол отклонения и не учитываем её. Чтобы учитывать это обстоятельство, мы ввели систематическую погрешность, связанную с затуханием равную 0.005 с. Возможно, стоило взять не постоянную, а относительную систематическую погрешность.\n",
    "\n",
    "2) Исследуемые тела можно считать за диск, кольцо и стержень, и, интегрировав, рассчитать теоретические моменты инерции. Однако в реальности при измерении момента инерции установкой оказывается, что диск и кольцо — адекватные приближения, а вот стержень — нет. Возможно, парадоксальный результат для стержня объясняется ошибкой измерений. Что касается аддитивности — при сложении моментов инерции он получается примерно на 7 процентов больше, чем измеренный.\n",
    "\n",
    "3) Формула Гюйгенса-Штейнера действительно работает, R**2 > 0.9, однако не идеально. Скорее всего, в ходе измерений мы достаточно косо двигали грузы."
   ]
  }
 ],
 "metadata": {
  "kernelspec": {
   "display_name": "base-ds",
   "language": "python",
   "name": "python3"
  },
  "language_info": {
   "codemirror_mode": {
    "name": "ipython",
    "version": 3
   },
   "file_extension": ".py",
   "mimetype": "text/x-python",
   "name": "python",
   "nbconvert_exporter": "python",
   "pygments_lexer": "ipython3",
   "version": "3.12.0"
  }
 },
 "nbformat": 4,
 "nbformat_minor": 2
}
